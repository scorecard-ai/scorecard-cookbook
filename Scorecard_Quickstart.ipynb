{
 "cells": [
  {
   "cell_type": "code",
   "source": [
    "# Install necessary packages\n",
    "!pip install scorecard-ai\n",
    "!pip install openai"
   ],
   "metadata": {},
   "execution_count": null,
   "outputs": []
  },
  {
   "cell_type": "code",
   "source": [
    "# Import required libraries\n",
    "import os\n",
    "import pandas as pd\n",
    "import openai\n",
    "from scorecard.client import Scorecard\n",
    "\n",
    "# Set your API keys\n",
    "SCORECARD_API_KEY = \"YOUR_SCORECARD_API_KEY\"  # Replace with your Scorecard API key\n",
    "OPENAI_API_KEY = \"YOUR_OPENAI_API_KEY\"        # Replace with your OpenAI API key\n",
    "\n",
    "# Initialize the Scorecard client\n",
    "client = Scorecard(api_key=SCORECARD_API_KEY)\n",
    "\n",
    "# Set OpenAI API key\n",
    "openai.api_key = OPENAI_API_KEY"
   ],
   "metadata": {},
   "execution_count": null,
   "outputs": []
  },
  {
   "cell_type": "code",
   "source": [
    "# Read the dataset\n",
    "df = pd.read_csv('dataset.csv')  # Ensure 'dataset.csv' is in your working directory"
   ],
   "metadata": {},
   "execution_count": null,
   "outputs": []
  },
  {
   "cell_type": "code",
   "source": [
    "# Create a Testset in Scorecard\n",
    "testset = client.testset.create(\n",
    "    name=\"Demo Testset\",\n",
    "    description=\"Testset created from CSV file\",\n",
    ")\n",
    "testset_id = testset.id\n",
    "\n",
    "# Add Testcases to the Testset\n",
    "for index, row in df.iterrows():\n",
    "    client.testcase.create(\n",
    "        testset_id=testset_id,\n",
    "        user_query=row['user_query'],\n",
    "        ideal_response=row['ideal']\n",
    "    )\n",
    "\n",
    "print(\"Testset created with ID:\", testset_id)\n",
    "print(f\"Visit the Scorecard UI to view your Testset: https://app.getscorecard.ai/view-dataset/{testset_id}\")"
   ],
   "metadata": {},
   "execution_count": null,
   "outputs": []
  },
  {
   "cell_type": "code",
   "source": [
    "# Define your model function\n",
    "def get_model_response(user_query):\n",
    "    response = openai.ChatCompletion.create(\n",
    "        model=\"gpt-3.5-turbo\",\n",
    "        messages=[\n",
    "            {\"role\": \"system\", \"content\": \"You are a helpful assistant.\"},\n",
    "            {\"role\": \"user\", \"content\": user_query},\n",
    "        ]\n",
    "    )\n",
    "    return response['choices'][0]['message']['content']"
   ],
   "metadata": {},
   "execution_count": null,
   "outputs": []
  },
  {
   "cell_type": "code",
   "source": [
    "# Create a Run\n",
    "run = client.run.create(testset_id=testset_id)\n",
    "run_id = run.id\n",
    "client.run.update_status(run_id=run_id, status=\"running_execution\")\n",
    "\n",
    "# Execute Testcases and collect responses\n",
    "testcases = client.testset.get_testcases(testset_id=testset_id).results\n",
    "\n",
    "for testcase in testcases:\n",
    "    user_query = testcase.user_query\n",
    "    ideal_response = testcase.ideal_response\n",
    "\n",
    "    model_response = get_model_response(user_query)\n",
    "\n",
    "    client.testrecord.create(\n",
    "        run_id=run_id,\n",
    "        testset_id=testset_id,\n",
    "        testcase_id=testcase.id,\n",
    "        user_query=user_query,\n",
    "        response=model_response,\n",
    "        ideal_response=ideal_response\n",
    "    )\n",
    "\n",
    "client.run.update_status(run_id=run_id, status=\"awaiting_scoring\")\n",
    "\n",
    "print(\"Run created with ID:\", run_id)\n",
    "print(f\"Visit the Scorecard UI to view your Run: https://app.getscorecard.ai/view-records/{run_id}\")"
   ],
   "metadata": {},
   "execution_count": null,
   "outputs": []
  },
  {
   "cell_type": "markdown",
   "source": [
    "### Note:\n",
    "Scoring needs to be initiated from the Scorecard UI.\n",
    "\n",
    "Please go to the Scorecard UI to initiate scoring and view results.\n",
    "\n",
    "Visit: `https://app.getscorecard.ai/view-grades/{run_id}`"
   ],
   "metadata": {}
  }
 ],
 "metadata": {
  "kernelspec": {
   "display_name": "Python 3",
   "language": "python",
   "name": "python3"
  },
  "language_info": {
   "name": "python",
   "version": ""
  }
 },
 "nbformat": 4,
 "nbformat_minor": 4
}
