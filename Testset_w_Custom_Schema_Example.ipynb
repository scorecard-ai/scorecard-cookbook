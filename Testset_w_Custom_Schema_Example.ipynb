{
  "nbformat": 4,
  "nbformat_minor": 0,
  "metadata": {
    "colab": {
      "provenance": [],
      "include_colab_link": true
    },
    "kernelspec": {
      "name": "python3",
      "display_name": "Python 3"
    },
    "language_info": {
      "name": "python"
    }
  },
  "cells": [
    {
      "cell_type": "markdown",
      "metadata": {
        "id": "view-in-github",
        "colab_type": "text"
      },
      "source": [
        "<a href=\"https://colab.research.google.com/github/scorecard-ai/scorecard-cookbook/blob/main/Testset_w_Custom_Schema_Example.ipynb\" target=\"_parent\"><img src=\"https://colab.research.google.com/assets/colab-badge.svg\" alt=\"Open In Colab\"/></a>"
      ]
    },
    {
      "cell_type": "markdown",
      "source": [
        "# Testset with Custom Schema\n",
        "\n",
        "## 🧙‍♂️ Instructions\n",
        "\n",
        "1. Create an account and [login to Scorecard](https://app.getscorecard.ai/). Copy your [API key](https://app.getscorecard.ai/settings).\n",
        "1. Add your Scorecard API Key below.\n",
        "1. (If running as notebook) Go to `Runtime` -> `Run all`. Enjoy!"
      ],
      "metadata": {
        "id": "LjecdsSRPPai"
      }
    },
    {
      "cell_type": "code",
      "source": [
        "#@title 👉 API Keys\n",
        "\n",
        "SCORECARD_API_KEY = \"\" #@param { type: \"string\" }"
      ],
      "metadata": {
        "id": "wAsJ8kJ6O1TI"
      },
      "execution_count": null,
      "outputs": []
    },
    {
      "cell_type": "markdown",
      "source": [
        "# Setup"
      ],
      "metadata": {
        "id": "xO5brg_tzz4A"
      }
    },
    {
      "cell_type": "code",
      "source": [
        "#@title Install dependencies\n",
        "#@markdown In order to keep the notebook working for all future users, we pin the dependency versions.\n",
        "\n",
        "!pip install scorecard-ai==0.1.12\n",
        "!pip install openai==1.11.1"
      ],
      "metadata": {
        "id": "B_wcdhcPzyQ3",
        "cellView": "form"
      },
      "execution_count": null,
      "outputs": []
    },
    {
      "cell_type": "code",
      "source": [
        "#@title Imports\n",
        "\n",
        "from openai import OpenAI\n",
        "from scorecard.client import Scorecard"
      ],
      "metadata": {
        "cellView": "form",
        "id": "dod8Xp-5z5i7"
      },
      "execution_count": null,
      "outputs": []
    },
    {
      "cell_type": "markdown",
      "source": [
        "# Create a Testset in Scorecard"
      ],
      "metadata": {
        "id": "YCbMNYhl4IMU"
      }
    },
    {
      "cell_type": "code",
      "source": [
        "#@title 1. Create a basic Testset with Custom Schema\n",
        "#@markdown Here we'll create a basic Testset that gets stored in Scorecard.\n",
        "\n",
        "from scorecard.types import CustomSchema, CustomVariable\n",
        "import json\n",
        "\n",
        "client = Scorecard(\n",
        "    api_key=SCORECARD_API_KEY,\n",
        ")\n",
        "\n",
        "# Create a Testset\n",
        "testset = client.testset.create(\n",
        "    name=\"Story Opening Lines\",\n",
        "    description=\"Demo of a testset created via Scorecard Python SDK\",\n",
        "    using_retrieval=False,\n",
        "    custom_schema=CustomSchema(\n",
        "        variables=[\n",
        "            CustomVariable(\n",
        "                name=\"inputs\",\n",
        "                description=\"Custom Parameters for this Testset.\",\n",
        "                role=\"input\",\n",
        "                data_type=\"json_object\",\n",
        "            ),\n",
        "        ]\n",
        "    ),\n",
        ")\n",
        "\n",
        "# Add three testcases\n",
        "client.testcase.create(\n",
        "    testset_id=testset.id,\n",
        "    user_query=\"query\",\n",
        "    custom_inputs={\n",
        "        \"inputs\": json.dumps(\n",
        "            {\n",
        "                \"key\": \"value\",\n",
        "                \"link\": \"https://www.google.com\",\n",
        "                \"number\": 1,\n",
        "                \"nested\": {\"key\": \"value\"},\n",
        "            }\n",
        "        ),\n",
        "    },\n",
        ")\n",
        "\n",
        "print(\"Visit the Scorecard app to view your Testset:\")\n",
        "print(f\"https://app.getscorecard.ai/view-dataset/{testset.id}\")"
      ],
      "metadata": {
        "id": "KqtQRU694Jft"
      },
      "execution_count": null,
      "outputs": []
    },
    {
      "cell_type": "code",
      "source": [],
      "metadata": {
        "id": "BA8bx0ihrSsS"
      },
      "execution_count": null,
      "outputs": []
    }
  ]
}
