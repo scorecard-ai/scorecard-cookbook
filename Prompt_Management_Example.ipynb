{
  "nbformat": 4,
  "nbformat_minor": 0,
  "metadata": {
    "colab": {
      "provenance": [],
      "include_colab_link": true
    },
    "kernelspec": {
      "name": "python3",
      "display_name": "Python 3"
    },
    "language_info": {
      "name": "python"
    }
  },
  "cells": [
    {
      "cell_type": "markdown",
      "metadata": {
        "id": "view-in-github",
        "colab_type": "text"
      },
      "source": [
        "<a href=\"https://colab.research.google.com/github/scorecard-ai/scorecard-cookbook/blob/main/Prompt_Management_Example.ipynb\" target=\"_parent\"><img src=\"https://colab.research.google.com/assets/colab-badge.svg\" alt=\"Open In Colab\"/></a>"
      ]
    },
    {
      "cell_type": "markdown",
      "source": [
        "# Prompt Management\n",
        "\n",
        "In this cookbook, you'll find examples on how to\n",
        "1. Create new prompts\n",
        "2. Create new prompt versions\n",
        "3. Pull saved prompts\n",
        "\n",
        "\n",
        "\n",
        "## 🧙‍♂️ Instructions\n",
        "\n",
        "1. Create an account and [login to Scorecard](https://app.getscorecard.ai/). Copy your [API key](https://app.getscorecard.ai/settings).\n",
        "1. Add your Scorecard API Key below.\n",
        "1. (If running as notebook) Go to `Runtime` -> `Run all`. Enjoy!"
      ],
      "metadata": {
        "id": "LjecdsSRPPai"
      }
    },
    {
      "cell_type": "code",
      "source": [
        "#@title 👉 API Keys\n",
        "\n",
        "SCORECARD_API_KEY = \"\" #@param { type: \"string\" }"
      ],
      "metadata": {
        "id": "wAsJ8kJ6O1TI"
      },
      "execution_count": null,
      "outputs": []
    },
    {
      "cell_type": "markdown",
      "source": [
        "# Setup"
      ],
      "metadata": {
        "id": "xO5brg_tzz4A"
      }
    },
    {
      "cell_type": "code",
      "source": [
        "#@title Install dependencies\n",
        "#@markdown In order to keep the notebook working for all future users, we pin the dependency versions.\n",
        "\n",
        "!pip install scorecard-ai==\"v1.0.0-beta2\"\n",
        "!pip install openai==1.30.1"
      ],
      "metadata": {
        "id": "B_wcdhcPzyQ3",
        "cellView": "form"
      },
      "execution_count": null,
      "outputs": []
    },
    {
      "cell_type": "code",
      "source": [
        "#@title Imports\n",
        "\n",
        "from openai import OpenAI\n",
        "from scorecard.client import Scorecard"
      ],
      "metadata": {
        "id": "dod8Xp-5z5i7"
      },
      "execution_count": null,
      "outputs": []
    },
    {
      "cell_type": "markdown",
      "source": [
        "# Create prompts"
      ],
      "metadata": {
        "id": "YCbMNYhl4IMU"
      }
    },
    {
      "cell_type": "code",
      "source": [
        "#@title Upload prompts to Scorecard for management\n",
        "client = Scorecard(api_key=SCORECARD_API_KEY)\n",
        "\n",
        "# Upload Prompt\n",
        "PROMPT_NAME = \"Demo Prompt\"\n",
        "PROMPT_TEMPLATE = \"\"\"\n",
        "You are a helpful assistant. Use the provided context to answer the user's query.\n",
        "\"\"\"\n",
        "MODEL_NAME = \"gpt-4-turbo\"\n",
        "prompt = client.prompt.create(\n",
        "    # Name has to be unique (will be used to pull prompts later)\n",
        "    name=PROMPT_NAME,\n",
        "    prompt_template=PROMPT_TEMPLATE,\n",
        "    description=\"Example of using Scorecard for Managed Prompts\",\n",
        "    # Optional model params\n",
        "    model_params={\n",
        "        \"topP\": 0.9,\n",
        "        \"isCustom\": 0,\n",
        "        \"maxTokens\": 2048,\n",
        "        \"modelName\": MODEL_NAME,\n",
        "        \"temperature\": 0\n",
        "    },\n",
        ")\n",
        "\n",
        "print(f\"prompt created! name: {prompt.name}, id: {prompt.id}\")\n",
        "\n",
        "\n"
      ],
      "metadata": {
        "id": "KqtQRU694Jft"
      },
      "execution_count": null,
      "outputs": []
    },
    {
      "cell_type": "code",
      "source": [
        "#@title Add a new version to an existing prompt\n",
        "\n",
        "# Identify the parent prompt to add a new version for\n",
        "existing_prompt_id = prompt.id\n",
        "\n",
        "# Upload a new prompt version\n",
        "PROMPT_TEMPLATE_MULTI_MESSAGE = \"\"\"\n",
        "<system>\n",
        "You are a helpful assistant. Use the provided context to answer the user's query.\n",
        "\n",
        "Context: {context}\n",
        "</system>\n",
        "\n",
        "<user>\n",
        "{user_query}\n",
        "</user>\n",
        "\"\"\"\n",
        "MODEL_NAME = \"gpt-4-turbo\"\n",
        "child_prompt = client.prompt.create(\n",
        "    # Note that `name` will be inherited from the parent prompt\n",
        "    parent_id=existing_prompt_id,\n",
        "    prompt_template=PROMPT_TEMPLATE_MULTI_MESSAGE,\n",
        "    description=\"A multi-message version\",\n",
        "    # Optional model params\n",
        "    model_params={\n",
        "        \"topP\": 0.9,\n",
        "        \"isCustom\": 0,\n",
        "        \"maxTokens\": 2048,\n",
        "        \"modelName\": MODEL_NAME,\n",
        "        \"temperature\": 0\n",
        "    },\n",
        ")\n",
        "\n",
        "print(f\"prompt created! id: {child_prompt.id}, parent: {child_prompt.parent_id}\")\n"
      ],
      "metadata": {
        "id": "BA8bx0ihrSsS"
      },
      "execution_count": null,
      "outputs": []
    },
    {
      "cell_type": "code",
      "source": [
        "#@title Get prompt by name\n",
        "#@markdown Only the prod version will be returned\n",
        "\n",
        "PROD_PROMPT = client.prompt.get_by_name(\n",
        "    PROMPT_NAME\n",
        ").prompt_template\n",
        "\n"
      ],
      "metadata": {
        "id": "6qlclOBo3wlS"
      },
      "execution_count": null,
      "outputs": []
    },
    {
      "cell_type": "code",
      "source": [
        "#@title Get prompt by ID\n",
        "#@markdown If a non-prod version is required, look up its ID in https://app.getscorecard.ai/prompts\n",
        "\n",
        "prompt_id = child_prompt.id\n",
        "STAGING_PROMPT = client.prompt.get(\n",
        "    prompt_id\n",
        ").prompt_template\n"
      ],
      "metadata": {
        "id": "Mo8qnOPs4PEE"
      },
      "execution_count": null,
      "outputs": []
    }
  ]
}